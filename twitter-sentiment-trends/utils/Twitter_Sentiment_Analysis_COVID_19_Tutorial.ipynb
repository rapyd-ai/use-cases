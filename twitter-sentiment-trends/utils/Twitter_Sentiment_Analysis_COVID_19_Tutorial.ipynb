{
  "nbformat": 4,
  "nbformat_minor": 0,
  "metadata": {
    "colab": {
      "name": "Twitter-Sentiment-Analysis-COVID-19-Tutorial.ipynb",
      "provenance": [],
      "collapsed_sections": []
    },
    "kernelspec": {
      "name": "python3",
      "display_name": "Python 3"
    }
  },
  "cells": [
    {
      "cell_type": "markdown",
      "metadata": {
        "id": "uBPw6mpqJH-b",
        "colab_type": "text"
      },
      "source": [
        "# Analyse Twitter Sentiment Trends Prototype [COVID-19 Edition]\n"
      ]
    },
    {
      "cell_type": "markdown",
      "metadata": {
        "id": "xQ9nLCBnwDrq",
        "colab_type": "text"
      },
      "source": [
        "In this tutorial we are going to prototype a Twitter sentiment analysis application. This prototype has the following goals:\n",
        "\n",
        "*   Learn if there are enought tweets for our search request (Tweets per day for a certain topic in a certain region)\n",
        "*   Learn if these tweets show any positive or negative sentiment variance\n",
        "\n",
        "In this notebook we will try to explore the following research question:\n",
        "\n",
        "***Example for this tutorial***\n",
        "\n",
        "*Can we observe a significant change in user sentiment for COVID-19 related tweets near Munich in the time between 01 March 2020 - 24 April 2020? The following events happend in this time:*\n",
        "\n",
        "- *Lockdown for Bavaria: 20 March 2020*\n",
        "- *Nation-wide contact restrictions: 22 March 2020*\n",
        "- *Cancellation of large events until August 2020: 16 April 2020*\n",
        "- *Cancellation of Oktoberfest: 21 April 2020*\n",
        "\n",
        "**Principles:**\n",
        "\n",
        "1.   We want to **reduce the time and effort** to build the prototype as much as possible.\n",
        "\n",
        "2.   We will use commodity functions or packages as much as possible for the prototype - **avoid implementations from scratch**\n",
        "\n",
        "3.   For the sentiment analysis we  want to use a **high quality sentiment model** which was trained on a broad text corpus, in order to get a high quality sentiment analysis out of the box.\n",
        "\n",
        "For this tutorial, we are using [RAPYD.AI](https://www.rapyd.ai) to access the text mining service.\n",
        "\n",
        "To use RAPYD.AI, [sign up here for free](https://www.rapyd.ai/free-trial/). "
      ]
    },
    {
      "cell_type": "markdown",
      "metadata": {
        "id": "eDkwn0OnJMhN",
        "colab_type": "text"
      },
      "source": [
        "## Step 1: Prepare Environment\n",
        "Install and load packages and utility functions"
      ]
    },
    {
      "cell_type": "code",
      "metadata": {
        "id": "Zq6BI0eUybB0",
        "colab_type": "code",
        "colab": {}
      },
      "source": [
        "!git clone https://github.com/rapyd-ai/use-cases.git\n",
        "!pip install GetOldTweets3\n",
        "!pip install tweet-preprocessor"
      ],
      "execution_count": 0,
      "outputs": []
    },
    {
      "cell_type": "code",
      "metadata": {
        "id": "dt7r9U13kpDK",
        "colab_type": "code",
        "colab": {}
      },
      "source": [
        "import pandas as pd\n",
        "import GetOldTweets3 as got\n",
        "import preprocessor as p\n",
        "import requests\n",
        "import matplotlib.pyplot as plt\n",
        "from datetime import datetime\n",
        "import sys\n",
        "sys.path.append('use-cases/classify-user-reviews/utils')\n",
        "from rapyd_ai_utils import *\n"
      ],
      "execution_count": 0,
      "outputs": []
    },
    {
      "cell_type": "markdown",
      "metadata": {
        "id": "Eoimw6mGiqnT",
        "colab_type": "text"
      },
      "source": [
        "## Step 2: Load tweets for a given date range and location"
      ]
    },
    {
      "cell_type": "markdown",
      "metadata": {
        "id": "rdM-Gf9xJvg9",
        "colab_type": "text"
      },
      "source": [
        "For our analysis, we want to get tweets for  \n",
        "\n",
        "*   a specific search team\n",
        "*   in a given date range\n",
        "*   tweeted near a given location\n",
        "\n",
        "We can customize the Twitter query even more. See [this documentation]('https://pypi.org/project/GetOldTweets3/) for details\n",
        "\n",
        "The location has to be entered with latitute and longitute coordniates. Visit [this website](https://www.latlong.net/) to find the lat and long for custom location.\n"
      ]
    },
    {
      "cell_type": "code",
      "metadata": {
        "id": "Np1IsnOlolNN",
        "colab_type": "code",
        "colab": {}
      },
      "source": [
        "# Enter your custom values here\n",
        "# Example: Munich\n",
        "SEARCH = \"covid-19\"\n",
        "LATITUDE = \"48.14\"\n",
        "LONGITUDE = \"11.58\"\n",
        "RADIUS = \"15mi\"\n",
        "START_DATE = \"2020-03-01\"\n",
        "END_DATE = \"2020-04-24\""
      ],
      "execution_count": 0,
      "outputs": []
    },
    {
      "cell_type": "code",
      "metadata": {
        "id": "ZOwwqJgdfq51",
        "colab_type": "code",
        "colab": {}
      },
      "source": [
        "tweetCriteria = got.manager.TweetCriteria().setQuerySearch(SEARCH)\\\n",
        "                                           .setSince(START_DATE)\\\n",
        "                                           .setUntil(END_DATE)\\\n",
        "                                           .setNear(LATITUDE + \", \" + LONGITUDE)\\\n",
        "                                           .setWithin(RADIUS)\\\n",
        "                                           .setMaxTweets(5000)\n",
        "tweets = got.manager.TweetManager.getTweets(tweetCriteria)"
      ],
      "execution_count": 0,
      "outputs": []
    },
    {
      "cell_type": "markdown",
      "metadata": {
        "id": "vlzo6ruciyx5",
        "colab_type": "text"
      },
      "source": [
        "How many tweets did we fetch?\n",
        "\n",
        "---\n",
        "\n"
      ]
    },
    {
      "cell_type": "code",
      "metadata": {
        "id": "MiJ9ReBxgR9B",
        "colab_type": "code",
        "outputId": "07a9163e-ad8c-44b7-d355-9e4ddf0357f0",
        "colab": {
          "base_uri": "https://localhost:8080/",
          "height": 34
        }
      },
      "source": [
        "len(tweets)"
      ],
      "execution_count": 5,
      "outputs": [
        {
          "output_type": "execute_result",
          "data": {
            "text/plain": [
              "3212"
            ]
          },
          "metadata": {
            "tags": []
          },
          "execution_count": 5
        }
      ]
    },
    {
      "cell_type": "markdown",
      "metadata": {
        "id": "TkMAQvupKTYs",
        "colab_type": "text"
      },
      "source": [
        "## Step 3: Preprocess Twitter data"
      ]
    },
    {
      "cell_type": "markdown",
      "metadata": {
        "id": "TEGkjjmni2uq",
        "colab_type": "text"
      },
      "source": [
        "Convert tweets to Pandas DataFrame for data wrangling."
      ]
    },
    {
      "cell_type": "code",
      "metadata": {
        "id": "z_9_dPqwlSRl",
        "colab_type": "code",
        "colab": {
          "base_uri": "https://localhost:8080/",
          "height": 394
        },
        "outputId": "cc3474c3-8bb1-4b31-c9d8-cdc5346ead5e"
      },
      "source": [
        "df = pd.DataFrame([vars(s) for s in tweets])\n",
        "df.head(5)"
      ],
      "execution_count": 7,
      "outputs": [
        {
          "output_type": "execute_result",
          "data": {
            "text/html": [
              "<div>\n",
              "<style scoped>\n",
              "    .dataframe tbody tr th:only-of-type {\n",
              "        vertical-align: middle;\n",
              "    }\n",
              "\n",
              "    .dataframe tbody tr th {\n",
              "        vertical-align: top;\n",
              "    }\n",
              "\n",
              "    .dataframe thead th {\n",
              "        text-align: right;\n",
              "    }\n",
              "</style>\n",
              "<table border=\"1\" class=\"dataframe\">\n",
              "  <thead>\n",
              "    <tr style=\"text-align: right;\">\n",
              "      <th></th>\n",
              "      <th>username</th>\n",
              "      <th>to</th>\n",
              "      <th>text</th>\n",
              "      <th>retweets</th>\n",
              "      <th>favorites</th>\n",
              "      <th>replies</th>\n",
              "      <th>id</th>\n",
              "      <th>permalink</th>\n",
              "      <th>author_id</th>\n",
              "      <th>date</th>\n",
              "      <th>formatted_date</th>\n",
              "      <th>hashtags</th>\n",
              "      <th>mentions</th>\n",
              "      <th>geo</th>\n",
              "      <th>urls</th>\n",
              "    </tr>\n",
              "  </thead>\n",
              "  <tbody>\n",
              "    <tr>\n",
              "      <th>0</th>\n",
              "      <td>News__Poster</td>\n",
              "      <td>None</td>\n",
              "      <td>Coronavirus: Aufnahmen zeigen, was Covid-19 in...</td>\n",
              "      <td>0</td>\n",
              "      <td>0</td>\n",
              "      <td>0</td>\n",
              "      <td>1253470575579848708</td>\n",
              "      <td>https://twitter.com/News__Poster/status/125347...</td>\n",
              "      <td>77838776</td>\n",
              "      <td>2020-04-23 23:47:28+00:00</td>\n",
              "      <td>Thu Apr 23 23:47:28 +0000 2020</td>\n",
              "      <td></td>\n",
              "      <td></td>\n",
              "      <td></td>\n",
              "      <td>https://is.gd/1aCFeC</td>\n",
              "    </tr>\n",
              "    <tr>\n",
              "      <th>1</th>\n",
              "      <td>AlexRuebben</td>\n",
              "      <td>None</td>\n",
              "      <td>Hopefully results will come soon: Repositioned...</td>\n",
              "      <td>2</td>\n",
              "      <td>2</td>\n",
              "      <td>1</td>\n",
              "      <td>1253464950653235202</td>\n",
              "      <td>https://twitter.com/AlexRuebben/status/1253464...</td>\n",
              "      <td>37893536</td>\n",
              "      <td>2020-04-23 23:25:07+00:00</td>\n",
              "      <td>Thu Apr 23 23:25:07 +0000 2020</td>\n",
              "      <td></td>\n",
              "      <td></td>\n",
              "      <td></td>\n",
              "      <td>https://www.medrxiv.org/content/10.1101/2020.0...</td>\n",
              "    </tr>\n",
              "    <tr>\n",
              "      <th>2</th>\n",
              "      <td>ChrisBrey1</td>\n",
              "      <td>None</td>\n",
              "      <td>'What's wrong with you Mexico?' Health workers...</td>\n",
              "      <td>0</td>\n",
              "      <td>0</td>\n",
              "      <td>0</td>\n",
              "      <td>1253464004787408896</td>\n",
              "      <td>https://twitter.com/ChrisBrey1/status/12534640...</td>\n",
              "      <td>787774580</td>\n",
              "      <td>2020-04-23 23:21:21+00:00</td>\n",
              "      <td>Thu Apr 23 23:21:21 +0000 2020</td>\n",
              "      <td></td>\n",
              "      <td></td>\n",
              "      <td></td>\n",
              "      <td>https://www.theguardian.com/world/2020/apr/23/...</td>\n",
              "    </tr>\n",
              "    <tr>\n",
              "      <th>3</th>\n",
              "      <td>News__Poster</td>\n",
              "      <td>None</td>\n",
              "      <td>Elizabeth Warren: US-Politikerin trauert um ve...</td>\n",
              "      <td>0</td>\n",
              "      <td>0</td>\n",
              "      <td>0</td>\n",
              "      <td>1253462924464730112</td>\n",
              "      <td>https://twitter.com/News__Poster/status/125346...</td>\n",
              "      <td>77838776</td>\n",
              "      <td>2020-04-23 23:17:04+00:00</td>\n",
              "      <td>Thu Apr 23 23:17:04 +0000 2020</td>\n",
              "      <td></td>\n",
              "      <td></td>\n",
              "      <td></td>\n",
              "      <td>https://is.gd/ZHyzSD</td>\n",
              "    </tr>\n",
              "    <tr>\n",
              "      <th>4</th>\n",
              "      <td>Severyn55</td>\n",
              "      <td>None</td>\n",
              "      <td>Trump: \"it was illegal!\" https://youtu.be/5VXd...</td>\n",
              "      <td>0</td>\n",
              "      <td>1</td>\n",
              "      <td>0</td>\n",
              "      <td>1253459112773455874</td>\n",
              "      <td>https://twitter.com/Severyn55/status/125345911...</td>\n",
              "      <td>52056547</td>\n",
              "      <td>2020-04-23 23:01:55+00:00</td>\n",
              "      <td>Thu Apr 23 23:01:55 +0000 2020</td>\n",
              "      <td>#wwg1wga #covid19 #wwg1wgaworldwide</td>\n",
              "      <td>@YouTube</td>\n",
              "      <td></td>\n",
              "      <td>https://youtu.be/5VXdiYAu2tU</td>\n",
              "    </tr>\n",
              "  </tbody>\n",
              "</table>\n",
              "</div>"
            ],
            "text/plain": [
              "       username    to  ... geo                                               urls\n",
              "0  News__Poster  None  ...                                   https://is.gd/1aCFeC\n",
              "1   AlexRuebben  None  ...      https://www.medrxiv.org/content/10.1101/2020.0...\n",
              "2    ChrisBrey1  None  ...      https://www.theguardian.com/world/2020/apr/23/...\n",
              "3  News__Poster  None  ...                                   https://is.gd/ZHyzSD\n",
              "4     Severyn55  None  ...                           https://youtu.be/5VXdiYAu2tU\n",
              "\n",
              "[5 rows x 15 columns]"
            ]
          },
          "metadata": {
            "tags": []
          },
          "execution_count": 7
        }
      ]
    },
    {
      "cell_type": "markdown",
      "metadata": {
        "id": "6ZrYwEVRk7Xi",
        "colab_type": "text"
      },
      "source": [
        "Tweet text processing - Delete URLs and mentions from text for better sentiment analysis."
      ]
    },
    {
      "cell_type": "code",
      "metadata": {
        "id": "puNqmojbygGL",
        "colab_type": "code",
        "colab": {}
      },
      "source": [
        "p.set_options(p.OPT.URL, p.OPT.MENTION) # delete URLs, Mentions \n",
        "df['text_clean'] = df['text'].apply(lambda x: p.clean(x))"
      ],
      "execution_count": 0,
      "outputs": []
    },
    {
      "cell_type": "markdown",
      "metadata": {
        "id": "mEgWoFFXK56j",
        "colab_type": "text"
      },
      "source": [
        "### Set Prototyping Constraints\n",
        "\n",
        "Depending on our search query we might get a lot of tweets back. However, for our prototyping purpose it is not necessary to analyse the sentiment of all of them. After all, we first want to get a general idea of what's going on on twitter.\n",
        "\n",
        "To limit the requests to the AI-as-a-Service there are different approached.\n",
        "\n",
        "Our approach here is to filter out tweets below a certain relevance threshold, defined by the times they were retweeted or favorited.\n",
        "\n",
        "The threshold we choose depends on the amount of data that we want to analyse.\n",
        "\n",
        "In our case, we want to limit the API calls to 500 tweets."
      ]
    },
    {
      "cell_type": "code",
      "metadata": {
        "id": "-PzudQLa0TI7",
        "colab_type": "code",
        "colab": {}
      },
      "source": [
        "df = df.query(\"retweets > 5 |  favorites > 5\")"
      ],
      "execution_count": 0,
      "outputs": []
    },
    {
      "cell_type": "code",
      "metadata": {
        "id": "IIPdNyzgszl4",
        "colab_type": "code",
        "colab": {
          "base_uri": "https://localhost:8080/",
          "height": 34
        },
        "outputId": "80f2f465-1877-46bb-eb95-41af32e06bb6"
      },
      "source": [
        "len(df)"
      ],
      "execution_count": 18,
      "outputs": [
        {
          "output_type": "execute_result",
          "data": {
            "text/plain": [
              "574"
            ]
          },
          "metadata": {
            "tags": []
          },
          "execution_count": 18
        }
      ]
    },
    {
      "cell_type": "markdown",
      "metadata": {
        "id": "r6kciN6MMfBD",
        "colab_type": "text"
      },
      "source": [
        "## Step 4: Explore Tweets After Preprocessing\n",
        "\n",
        "We want to find out if we still have enought tweets per day. What \"enough\" is depends on your use case, but ca. 10 tweets per day should be considered the asbsolute minimum."
      ]
    },
    {
      "cell_type": "code",
      "metadata": {
        "id": "ZiXFHqqDskrj",
        "colab_type": "code",
        "colab": {}
      },
      "source": [
        "# Date-Time to Date\n",
        "df['week'] = df['date'].dt.week\n",
        "df['date'] = df['date'].dt.date"
      ],
      "execution_count": 0,
      "outputs": []
    },
    {
      "cell_type": "code",
      "metadata": {
        "id": "kSwOnLWizQ50",
        "colab_type": "code",
        "outputId": "efd0b419-98ef-4787-d335-dc5276a58f88",
        "colab": {
          "base_uri": "https://localhost:8080/",
          "height": 398
        }
      },
      "source": [
        "df['date'].groupby(df['date']).count().plot(kind = 'bar', rot = 90, figsize=(14,5))"
      ],
      "execution_count": 20,
      "outputs": [
        {
          "output_type": "execute_result",
          "data": {
            "text/plain": [
              "<matplotlib.axes._subplots.AxesSubplot at 0x7f5cd05f3550>"
            ]
          },
          "metadata": {
            "tags": []
          },
          "execution_count": 20
        },
        {
          "output_type": "display_data",
          "data": {
            "image/png": "[encoded data removed]",
            "text/plain": [
              "<Figure size 1008x360 with 1 Axes>"
            ]
          },
          "metadata": {
            "tags": [],
            "needs_background": "light"
          }
        }
      ]
    },
    {
      "cell_type": "markdown",
      "metadata": {
        "id": "SXQmfvHTNlSs",
        "colab_type": "text"
      },
      "source": [
        "## Step 5: Get Sentiments for Tweets"
      ]
    },
    {
      "cell_type": "markdown",
      "metadata": {
        "id": "QA9ZY0ms2XEK",
        "colab_type": "text"
      },
      "source": [
        "Now we are ready to call the AI-service to analyse the tweets sentiment for us. If you don't have an Account ID and Token yet, you can [sign up here for free](https://www.rapyd.ai/free-trial/). "
      ]
    },
    {
      "cell_type": "code",
      "metadata": {
        "id": "pC_dZl0q1QM5",
        "colab_type": "code",
        "colab": {}
      },
      "source": [
        "ACCOUNT_ID = 'your-account-id>' \n",
        "TOKEN = 'your-token'"
      ],
      "execution_count": 0,
      "outputs": []
    },
    {
      "cell_type": "code",
      "metadata": {
        "id": "R24k8mZC1w-m",
        "colab_type": "code",
        "outputId": "819605c7-3330-4305-9c73-406ed23f2fb7",
        "colab": {
          "base_uri": "https://localhost:8080/",
          "height": 564
        }
      },
      "source": [
        "sentiment_scores = df['text_clean'].apply(lambda x: get_sentiment_score(x, \"GCP\", \"AUTO\", ACCOUNT_ID, TOKEN))"
      ],
      "execution_count": 27,
      "outputs": [
        {
          "output_type": "stream",
          "text": [
            "Genom att dela med mig av min träning i vardagen så hoppas jag kunna inspirera andra! #covid_19 #strongertogether #stayhome #stayhealthy #olympians #tillsammans io.grpc.StatusRuntimeException: INVALID_ARGUMENT: The language sv is not supported for document_sentiment analysis.\n",
            "Czy jesteśmy gotowi na pandemię wirusa? Nie. Żaden kraj nie jest. Zaskoczyło nas wszystko liczba chorych, którzy muszą być podłączeni do respiratorów,i tych, którzy Covid-19 przechodzą bezobjawowo, a mimo to mogą zakażać. Zaskoczyła nas przymusowa izolacja,obowiązkowe maseczki. io.grpc.StatusRuntimeException: INVALID_ARGUMENT: The language pl is not supported for document_sentiment analysis.\n",
            "#Optimismus #Corona #COVID19 #CoronaVirusDE #MaskeAuf io.grpc.StatusRuntimeException: INVALID_ARGUMENT: The language ca is not supported for document_sentiment analysis.\n",
            "Yang kita lakukan sekarang adalah mendukung setiap program dari pemerintah agar kita terhindar dari Covid-19 ini.sekiranya tidak perlu menyalahkan pemerintah dalam hal ini.sama sama kita gotong royong ikut membantu pemerintah mengatasi Covid-19 ini bersama sama io.grpc.StatusRuntimeException: INVALID_ARGUMENT: The language id is not supported for document_sentiment analysis.\n",
            "Sekian Thread dari saya,Apabila terdapat kesalahan saya mohon maaf.Semoga Bermanfaat bagi pembaca dan kita semua.Dan Semoga kita dilindungi dari Pandemi Covid-19. #EtikaPRE #SulaimanIsGood io.grpc.StatusRuntimeException: INVALID_ARGUMENT: The language ms is not supported for document_sentiment analysis.\n",
            "Strategi Mencegah penyebaran Covid-19 : 1.Perbanyak Test pada masyarakat terkait Covid-19 2.Isolasi mereka yg terinfeksi 3.Reaksi dan respon cepat tanggap dari pemerintah 4.Lakukan Lockdown dan beri sanksi yg ditakuti masyarakat agar dipatuhi 5.Perbanyak Edukasi hidup bersih io.grpc.StatusRuntimeException: INVALID_ARGUMENT: The language id is not supported for document_sentiment analysis.\n",
            "Rendahnya kualitas SDM dan kurangnya teknologi yg canggih di negara negara Afrika membuat penyebaran Covid-19 terus mengalami peningkatan di Afrika.ini menjadi penyebab utama meluasnya penyebaran Covid-19 di Afrika. io.grpc.StatusRuntimeException: INVALID_ARGUMENT: The language id is not supported for document_sentiment analysis.\n",
            "Menurut Mbak zizah,Strategi apakah yg dilakukan oleh Pemerintah Ghana sehingga Penyebaran Virus Covid-19 di negara tsb tidak terlalu banyak atau menjadi negara yang penyebarannya tersedikit di Afrika io.grpc.StatusRuntimeException: INVALID_ARGUMENT: The language id is not supported for document_sentiment analysis.\n",
            "Menurut Anda Mas,Apakah Lonjakan Penyebaran Virus Covid-19 Di USA merupakan kesalahan terbesar dari seorang Presiden Trump dikarenakan lalai atau menganggap sepele dengan Covid-19 ini. io.grpc.StatusRuntimeException: INVALID_ARGUMENT: The language id is not supported for document_sentiment analysis.\n",
            "Penyebaran kasus Covid-19 sangatlah cepat meluas di Negara benua Afrika,Di Afrika Utara terdapat 6.098 kasus dengan 564 kematian,di Afrika Barat terdapat 3.106 kasus dengan 82 kematian,di Afrika Tengah terdapat 2.180 kasus dengan 38 kematian.Ngeri ya gays penyebarannya io.grpc.StatusRuntimeException: INVALID_ARGUMENT: The language id is not supported for document_sentiment analysis.\n",
            "Sebanyak 669 kasus covid-19 telah dikonfirmasi di afrika dalam waktu 12 jam pada hari minggu tanggal 12 April waktu setempat.Membuat total kasus covid-19 di Afrika mencapai angka 13.814 berdasarkan data Badan Pengendalian dan Pencegahan Penyakit (CDC). io.grpc.StatusRuntimeException: INVALID_ARGUMENT: The language id is not supported for document_sentiment analysis.\n",
            "Penanganan Kasus Covid-19 di Negara Benua Africa - A Thread - #EtikaPRE io.grpc.StatusRuntimeException: INVALID_ARGUMENT: The language id is not supported for document_sentiment analysis.\n",
            "Προστασια απο τον #κορονοιο. Απο την κολεξιον με τον κωδικο Μασκα, . #κοροναιος #κορονοιος #ΜΕΝΟΥΜΕΣΠΙΤΙ #COVID2019 #covid_19GR #COVID_19 #COVIDー19 io.grpc.StatusRuntimeException: INVALID_ARGUMENT: The language el is not supported for document_sentiment analysis.\n",
            "Meslek liselerimiz Covid-19 tedbirleri kapsamında maske üretiyor. Ülkemizin aydınlık yarınları için durmadan, yorulmadan üretmeye devam edeceğiz. #karagündostumeslekieğitim #Eğtimdiplomasisi io.grpc.StatusRuntimeException: INVALID_ARGUMENT: The language tr is not supported for document_sentiment analysis.\n",
            "Če greste levičarji in podpišete izjavo, da v primeru, da dobite Covid19 se ne zdravite in vas doma pobere. VAM Zupanceva osebno trugo pripeljem. Ker to da ste tako neumni, to je pa huda bolezen. Že zarad te bi bilo škoda respiratorjev io.grpc.StatusRuntimeException: INVALID_ARGUMENT: The language sl is not supported for document_sentiment analysis.\n",
            "حتى ولد الاجاويد يبي بنت ناس محترمة تخاف الله فيه بالسر و العلن ما تجلس تخونه من وراه io.grpc.StatusRuntimeException: INVALID_ARGUMENT: The language ar is not supported for document_sentiment analysis.\n",
            "Başkanımız Kayhan Özdemirden Mesaj var! Landshut Fenerbahçeliler Derneği Başkanı Kayhan Özdemir içinde bulunduğumuz karantina durum ve Covid-19 Virüsü hakkında değerlendirmelerde bulundu ve iyi dileklerini siz değerli Fenerbahçelilere iletti. #EvdeKal #COVID19 io.grpc.StatusRuntimeException: INVALID_ARGUMENT: The language tr is not supported for document_sentiment analysis.\n",
            "لماذا التدخين يزيد فرصتك للإصابة ب #كورونا؟ سأستعرض خلال هذه السلسة القصيرة، الرابط بين التدخين وفيروس كورونا؟ ولماذا التدخين يعتبر عامل خطر ومساعد للإصابة بالمرض! #خليك_بالدار #صوت_الطبيب #تجمع_أطباء_العالم #COVID19 io.grpc.StatusRuntimeException: INVALID_ARGUMENT: The language ar is not supported for document_sentiment analysis.\n",
            "اول نمر يشخص ب #كورونا في حديقة حيوان بنيويورك تم الكشف عليه بعد تعرضه لنوبة كحة جافة وفقدان للشهية! ثلاثة نمور و اسود أفريقية تظهر عليهم أيضا اعراض #Covid_19 و جاري فحصهم ! اعتقد كذا ختمنا الكورونا #خليك_بالبيت io.grpc.StatusRuntimeException: INVALID_ARGUMENT: The language ar is not supported for document_sentiment analysis.\n",
            "Бывшая от нечего делать озаботилась пошивом масок дома из хлопка, для семьи, соседей и работы. Привет всем косорукожопам, которые освоили только печатанье визгов в твитер, что государство им всё должно. #оставайтесьдома #coronavirus #Covid_19 #bleibenzuhause #CoronavirusPandemic io.grpc.StatusRuntimeException: INVALID_ARGUMENT: The language ru is not supported for document_sentiment analysis.\n",
            "Не смотрите на идиотов и ограничьте общение. #COVID19 #coronavirus #Corona io.grpc.StatusRuntimeException: INVALID_ARGUMENT: The language ru is not supported for document_sentiment analysis.\n",
            "الحالات المسجلة ليوم واحد: ٢٣٥ اجمالي الحالات في مدينة #ميونخ : ٢٠٨٠ حاله الوفيات: ٣ حالات جميعها كانت تعاني من أمراض مزمنة الحظر في #ميونخ الحياة تمضي #تصويري الان #خليك_بالبيت #StayAtHome #COVID19 #كورونا io.grpc.StatusRuntimeException: INVALID_ARGUMENT: The language ar is not supported for document_sentiment analysis.\n",
            "من المؤتمر العالمي ! بروفيسور صيني، عالجنا اغلب الحالات بالطب الصيني البديل و أوقفنا باقي الأدوية والمضادات! وأردف قائلا: ينبغى استخدام الطب الصيني كعلاج اولي خصوصًا للكحة و ارتفاع درجة الحرارة اي إضافات من الزملاء ! #COVID19 #كورونا_الجديد #السعودية io.grpc.StatusRuntimeException: INVALID_ARGUMENT: The language ar is not supported for document_sentiment analysis.\n",
            "يحدث الان للمهتمين .. مباشر على الاونلاين المؤتمر العالمي ل #COVID19 من مجمع الدمام الطبي #السعوديه_نموذج_عالمي #أبطال_الصحة #السعوديون_يد_واحدة_ضد_كورونا io.grpc.StatusRuntimeException: INVALID_ARGUMENT: The language ar is not supported for document_sentiment analysis.\n",
            "Yiman kus bemaer other than COVID-19? io.grpc.StatusRuntimeException: INVALID_ARGUMENT: The language da is not supported for document_sentiment analysis.\n",
            "انتشر قبل فترة مقطع لشخص يتنمر على الطاقم الصحي ( التمريض) هذا تقرير من الام بي سي عن #الممارسين_الصحيين في #مستشفى_القطيف_المركزي وكيف انهم يضحون بارواحهم .. نحن نفخر بكل من يحارب ضد هذا المرض سواء من اطباء،ممرضين،ممارسين صحيين، سكيوريتي وعمال نظافة #COVID19 #كورونا_السعوديه io.grpc.StatusRuntimeException: INVALID_ARGUMENT: The language ar is not supported for document_sentiment analysis.\n",
            "الساعة في المملكة الثانية والنصف فجرًا و يستعد هؤلاء الأبطال بابتسامة لإنقاذ مريضة بعملية جراحيه طارئة! #كورونا او بدون كورونا هدفهم تحقيق رؤية المملكة ٤ جراحين بنكهة سعودية خالصة #سمعا_وطاعه_سيدي #ابطال_الصحة #كورونا_السعوديه #Covid_19 io.grpc.StatusRuntimeException: INVALID_ARGUMENT: The language ar is not supported for document_sentiment analysis.\n",
            "لا عجب فالألمان ماخذين الموضوع كأنه إنفلونزا عاديه قصه قصيرة توضح: رئيس قسم الباطنية لمستشفى كان يستهزئ من موضوع #Covid_19 الجمعة الماضي دخل على مريضه، ثبت بعد ذلك انها مصابة لم يعزل نفسه، تابع عمله ليوم الاثنين والثلاثاء، الأربعاء تغيب بداعي المرض الخميس اصيب بال #كورونا io.grpc.StatusRuntimeException: INVALID_ARGUMENT: The language ar is not supported for document_sentiment analysis.\n",
            "٨- مخالطة من الفئة الثانية (خطر العدوى عادي /منخفض) ويندرج تحتهم: الأشخاص الذين كانوا في نفس الغرفة مع حالة #COVID_19 مؤكدة, على سبيل المثال الفصل الدراسي ومكان العمل، ولكن لم يكن هناك اتصال وجها لوجه لمدة ١٥ دقيقة على الأقل. يتبع io.grpc.StatusRuntimeException: INVALID_ARGUMENT: The language ar is not supported for document_sentiment analysis.\n",
            "٣- الطاقم الطبي المخالطين لحالة #COVID_19 المؤكدة كجزء من الرعاية أو الفحص الطبي (≤ 2 م)،دون استخدام معدات الحماية. *الكمام الجراحي لايكفي للحماية من الكورونا io.grpc.StatusRuntimeException: INVALID_ARGUMENT: The language ar is not supported for document_sentiment analysis.\n",
            "Toivottavasti saa pian tiedotuskanavansa takaisin toimintaan. Siihen asti väliaikainen linkki toimii: #koronavirus #COVID19 io.grpc.StatusRuntimeException: INVALID_ARGUMENT: The language fi is not supported for document_sentiment analysis.\n"
          ],
          "name": "stdout"
        }
      ]
    },
    {
      "cell_type": "markdown",
      "metadata": {
        "id": "PM0Lw5VV7TMo",
        "colab_type": "text"
      },
      "source": [
        "Some tweets likely could not be properly analysed - mainly proably because the language was not recognized or is not supported. We will drop these values in our postprocessing.\n",
        "\n",
        "Each tweet sentiment will be indicated by a score between 0 and 1 for both positive and negative sentiment.\n",
        "\n",
        "Example: 'negative': 0.7 can be interpreted as \"this tweet is 70% likely to have a positive sentiment\". Depending on the AI service you are using, positive and negative sum up to 1, or they leave a rest, which is denoted as \"neutral\" sentiment\""
      ]
    },
    {
      "cell_type": "markdown",
      "metadata": {
        "id": "Fo7OgwtQ8JSk",
        "colab_type": "text"
      },
      "source": [
        "### Sentiment Postprocessing"
      ]
    },
    {
      "cell_type": "code",
      "metadata": {
        "id": "oCT91ksP4T35",
        "colab_type": "code",
        "colab": {}
      },
      "source": [
        "sentiment_df = pd.DataFrame.from_dict(list(sentiment_scores))\n",
        "sentiment_df = pd.concat([df.reset_index(drop = True), sentiment_df.reset_index(drop = True)], axis = 1)\n",
        "sentiment_df = sentiment_df.dropna(subset=['positive', 'negative'])\n",
        "sentiment_df.to_csv(\"sentiment_df.csv\") # It's good practice to persist the sentiment scores locally so they can be re-loaded again, if needed.\n",
        "sentiment_df = sentiment_df[['text_clean', \"retweets\", \"date\", \"hashtags\", \"negative\"]]"
      ],
      "execution_count": 0,
      "outputs": []
    },
    {
      "cell_type": "markdown",
      "metadata": {
        "id": "6nK9FxuXrXBu",
        "colab_type": "text"
      },
      "source": [
        "## Step 6: Analyse"
      ]
    },
    {
      "cell_type": "markdown",
      "metadata": {
        "id": "jTYzTqG3MGwp",
        "colab_type": "text"
      },
      "source": [
        "### Analyse Overall Sentiment"
      ]
    },
    {
      "cell_type": "markdown",
      "metadata": {
        "id": "_h8ag5xj3Bdr",
        "colab_type": "text"
      },
      "source": [
        "First, let's have a look at how the sentiment polarity is distributed across our tweets. Before we look at the distribution we will copy each tweet as many times as it got retweeted. Why? Imagine the following scenario:\n",
        "\n",
        "*   Tweet 1: Negative sentiment = 0.1, retweets = 0\n",
        "*   Tweet 2: Negative sentiment = 0.9, retweets = 1.000\n",
        "\n",
        "What to you think would be the better average sentiment score? 0.5 or 0.89?"
      ]
    },
    {
      "cell_type": "code",
      "metadata": {
        "id": "toCcDDFiI_-Y",
        "colab_type": "code",
        "outputId": "3833ed99-dc24-4b39-cf38-326c687a502e",
        "colab": {
          "base_uri": "https://localhost:8080/",
          "height": 282
        }
      },
      "source": [
        "sentiment_df = sentiment_df.loc[sentiment_df.index.repeat(sentiment_df.retweets)].reset_index(drop=True) # Copy Retweets\n",
        "sentiment_df['negative'].hist(bins = 20)"
      ],
      "execution_count": 29,
      "outputs": [
        {
          "output_type": "execute_result",
          "data": {
            "text/plain": [
              "<matplotlib.axes._subplots.AxesSubplot at 0x7f5ccfe1c9b0>"
            ]
          },
          "metadata": {
            "tags": []
          },
          "execution_count": 29
        },
        {
          "output_type": "display_data",
          "data": {
            "image/png": "[encoded data removed]",
            "text/plain": [
              "<Figure size 432x288 with 1 Axes>"
            ]
          },
          "metadata": {
            "tags": [],
            "needs_background": "light"
          }
        }
      ]
    },
    {
      "cell_type": "markdown",
      "metadata": {
        "id": "P-2XgFgIVOxm",
        "colab_type": "text"
      },
      "source": [
        "### Analyse Sentiment Trend Over Time"
      ]
    },
    {
      "cell_type": "markdown",
      "metadata": {
        "id": "LsLWf4GN4tDX",
        "colab_type": "text"
      },
      "source": [
        "In order to analyse the sentiment trend over time, we will calculate the sentiment mean and standard deviation (to find out how much the data spreads around the mean) for each day. Next, we will plot this data."
      ]
    },
    {
      "cell_type": "markdown",
      "metadata": {
        "id": "LVtcqnYz4_J4",
        "colab_type": "text"
      },
      "source": [
        "This graph shows the average daily sentiment scores over time. The vertical bars shows the standard deviation for each day, indicating how much variance is in the data. \n",
        "\n",
        "Beware: Days with less tweets will have higher standard deviation. If you have only one or two tweets per day, the standard devation can't be properly calculated. That's why it's good to have at least ca. 10 tweets per day, as a rule of thumb.\n",
        "\n",
        "To remind us about the absolute number of tweets for each day, we will plot this graph right below."
      ]
    },
    {
      "cell_type": "code",
      "metadata": {
        "id": "lleOMV5POyTM",
        "colab_type": "code",
        "colab": {
          "base_uri": "https://localhost:8080/",
          "height": 414
        },
        "outputId": "14c7650a-d9cf-4981-e724-a159febed94f"
      },
      "source": [
        "daily_sentiment_mean = sentiment_df[['date', 'negative']].groupby('date').mean()\n",
        "daily_sentiment_errors = sentiment_df[['date', 'negative']].groupby('date').std()\n",
        "\n",
        "#X Axis\n",
        "x_axis = pd.date_range(sentiment_df['date'].min(), sentiment_df['date'].max()).to_list()\n",
        "daily_sentiment_mean.plot(rot = 90, figsize=(17,5), ylim = (0,1), xticks = x_axis, yerr = daily_sentiment_errors, title = \"Sentiment Over Time\")"
      ],
      "execution_count": 30,
      "outputs": [
        {
          "output_type": "execute_result",
          "data": {
            "text/plain": [
              "<matplotlib.axes._subplots.AxesSubplot at 0x7f5cd049ef98>"
            ]
          },
          "metadata": {
            "tags": []
          },
          "execution_count": 30
        },
        {
          "output_type": "display_data",
          "data": {
            "image/png": "[encoded data removed]",
            "text/plain": [
              "<Figure size 1224x360 with 1 Axes>"
            ]
          },
          "metadata": {
            "tags": [],
            "needs_background": "light"
          }
        }
      ]
    },
    {
      "cell_type": "code",
      "metadata": {
        "id": "fk7O41xZUeVX",
        "colab_type": "code",
        "colab": {
          "base_uri": "https://localhost:8080/",
          "height": 414
        },
        "outputId": "e3aaa0a9-0434-4fc4-dea4-90a158418908"
      },
      "source": [
        "df['date'].groupby(df['date']).count().plot(kind = 'bar', rot = 90, figsize=(17,5), title = \"Absolute Count Of COVID-19 Related Tweets\")"
      ],
      "execution_count": 31,
      "outputs": [
        {
          "output_type": "execute_result",
          "data": {
            "text/plain": [
              "<matplotlib.axes._subplots.AxesSubplot at 0x7f5ccfb5af28>"
            ]
          },
          "metadata": {
            "tags": []
          },
          "execution_count": 31
        },
        {
          "output_type": "display_data",
          "data": {
            "image/png": "[encoded data removed]",
            "text/plain": [
              "<Figure size 1224x360 with 1 Axes>"
            ]
          },
          "metadata": {
            "tags": [],
            "needs_background": "light"
          }
        }
      ]
    },
    {
      "cell_type": "markdown",
      "metadata": {
        "id": "Ye2gVB3uP8xL",
        "colab_type": "text"
      },
      "source": [
        "### Analyse Popular Hashtags per Day"
      ]
    },
    {
      "cell_type": "markdown",
      "metadata": {
        "id": "ozjNu0-95u-Z",
        "colab_type": "text"
      },
      "source": [
        "Now that we hopefully found some spikes or drops in our sentiment data, we consequently want to know the \"hot topics\" during these days. We will approximate them by looking at popular hash tags during a given day.\n",
        "\n",
        "Look at the popular hashtags for a specific date."
      ]
    },
    {
      "cell_type": "code",
      "metadata": {
        "id": "bZVUe0IJOyNC",
        "colab_type": "code",
        "colab": {}
      },
      "source": [
        "# Calculate popular hashtags\n",
        "popular_hashtags = sentiment_df[['hashtags', 'negative', 'date']].groupby(\"date\").agg({'hashtags': ' '.join})\n",
        "popular_hashtags['hashtags'] = popular_hashtags['hashtags'].apply(hashtag_frequency)\n",
        "popular_hashtags['hashtags'] = popular_hashtags['hashtags'].apply(lambda x: pd.DataFrame(x, columns= ['Hashtag', 'Count']).sort_values('Count', ascending = False))"
      ],
      "execution_count": 0,
      "outputs": []
    },
    {
      "cell_type": "code",
      "metadata": {
        "id": "GcuZ26bDOyPz",
        "colab_type": "code",
        "colab": {
          "base_uri": "https://localhost:8080/",
          "height": 359
        },
        "outputId": "036c39dd-bb5b-434a-9a35-fd0a5e781657"
      },
      "source": [
        "day = \"2020-04-21\"\n",
        "from datetime import datetime\n",
        "day = datetime.strptime(day, '%Y-%m-%d').date()\n",
        "\n",
        "popular_hashtags.query('date == @day')['hashtags'][0].head(10)"
      ],
      "execution_count": 46,
      "outputs": [
        {
          "output_type": "execute_result",
          "data": {
            "text/html": [
              "<div>\n",
              "<style scoped>\n",
              "    .dataframe tbody tr th:only-of-type {\n",
              "        vertical-align: middle;\n",
              "    }\n",
              "\n",
              "    .dataframe tbody tr th {\n",
              "        vertical-align: top;\n",
              "    }\n",
              "\n",
              "    .dataframe thead th {\n",
              "        text-align: right;\n",
              "    }\n",
              "</style>\n",
              "<table border=\"1\" class=\"dataframe\">\n",
              "  <thead>\n",
              "    <tr style=\"text-align: right;\">\n",
              "      <th></th>\n",
              "      <th>Hashtag</th>\n",
              "      <th>Count</th>\n",
              "    </tr>\n",
              "  </thead>\n",
              "  <tbody>\n",
              "    <tr>\n",
              "      <th>89</th>\n",
              "      <td>#health</td>\n",
              "      <td>85</td>\n",
              "    </tr>\n",
              "    <tr>\n",
              "      <th>69</th>\n",
              "      <td>#VR</td>\n",
              "      <td>80</td>\n",
              "    </tr>\n",
              "    <tr>\n",
              "      <th>70</th>\n",
              "      <td>#AR</td>\n",
              "      <td>80</td>\n",
              "    </tr>\n",
              "    <tr>\n",
              "      <th>68</th>\n",
              "      <td>#video</td>\n",
              "      <td>80</td>\n",
              "    </tr>\n",
              "    <tr>\n",
              "      <th>60</th>\n",
              "      <td>#Monaco</td>\n",
              "      <td>61</td>\n",
              "    </tr>\n",
              "    <tr>\n",
              "      <th>22</th>\n",
              "      <td>#directCN</td>\n",
              "      <td>54</td>\n",
              "    </tr>\n",
              "    <tr>\n",
              "      <th>101</th>\n",
              "      <td>#Oktoberfest</td>\n",
              "      <td>51</td>\n",
              "    </tr>\n",
              "    <tr>\n",
              "      <th>75</th>\n",
              "      <td>#M</td>\n",
              "      <td>34</td>\n",
              "    </tr>\n",
              "    <tr>\n",
              "      <th>72</th>\n",
              "      <td>#Ausgangssperre</td>\n",
              "      <td>30</td>\n",
              "    </tr>\n",
              "    <tr>\n",
              "      <th>71</th>\n",
              "      <td>#Atemschutzmaske</td>\n",
              "      <td>30</td>\n",
              "    </tr>\n",
              "  </tbody>\n",
              "</table>\n",
              "</div>"
            ],
            "text/plain": [
              "              Hashtag  Count\n",
              "89            #health     85\n",
              "69                #VR     80\n",
              "70                #AR     80\n",
              "68             #video     80\n",
              "60            #Monaco     61\n",
              "22          #directCN     54\n",
              "101      #Oktoberfest     51\n",
              "75                 #M     34\n",
              "72    #Ausgangssperre     30\n",
              "71   #Atemschutzmaske     30"
            ]
          },
          "metadata": {
            "tags": []
          },
          "execution_count": 46
        }
      ]
    },
    {
      "cell_type": "markdown",
      "metadata": {
        "id": "xDKIIKglrz4P",
        "colab_type": "text"
      },
      "source": [
        "## Step 7: Conclusion"
      ]
    },
    {
      "cell_type": "markdown",
      "metadata": {
        "id": "mafc2kimYD1d",
        "colab_type": "text"
      },
      "source": [
        "***Example Conclusion:*** *Tweets started to grow after April 17. Before that, it is difficult to analyse daily sentiment due to a lack of data. The overall negative sentiment trend after April 17 seems to be slightly decreasing. April 21 showed a slight increase in negative sentiment.*\n",
        "\n",
        "*Oktoberfest can be found in popular hashtags, probaly due to the cancellation announcement. Lockdown (\"Ausgangssperre\") and masks (\"Atemschutzmaske\") were also popular.*"
      ]
    },
    {
      "cell_type": "markdown",
      "metadata": {
        "id": "stHxHWB56T_B",
        "colab_type": "text"
      },
      "source": [
        "## Next Steps"
      ]
    },
    {
      "cell_type": "markdown",
      "metadata": {
        "id": "sNKNzkU26Wv2",
        "colab_type": "text"
      },
      "source": [
        "Using the Sentiment Trend, Daily Tweet Counts and Popular Hashtags graphs you can quickly assess if it makes sense to drive the analysis further.\n",
        "\n",
        "If you don't find any meaningful insights yet, you might consider changing your search - either by getting more data or maybe changing the search term.\n",
        "\n",
        "If you found something that you find worth exploring further, try to analyse more data using the AI-as-a-service or train a custom model to predict the sentiment more accuratley. \n",
        "\n",
        "In any case, this is not the end of your analysis, but just the end of your first iteration phase of your prototype :-)\n",
        "\n",
        "Happy analyzing!"
      ]
    }
  ]
}